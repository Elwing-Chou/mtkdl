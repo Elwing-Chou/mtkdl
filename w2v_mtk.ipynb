{
  "nbformat": 4,
  "nbformat_minor": 0,
  "metadata": {
    "colab": {
      "name": "w2v_mtk.ipynb",
      "provenance": []
    },
    "kernelspec": {
      "name": "python3",
      "display_name": "Python 3"
    },
    "accelerator": "GPU"
  },
  "cells": [
    {
      "cell_type": "code",
      "metadata": {
        "id": "VkMGOJOuskqo",
        "colab_type": "code",
        "colab": {
          "base_uri": "https://localhost:8080/",
          "height": 614
        },
        "outputId": "b1297f68-70f8-4ac1-a63d-16f3454a1be1"
      },
      "source": [
        "import pandas as pd\n",
        "df = pd.read_csv(\"pttexsmall.csv\", encoding=\"utf-8\")\n",
        "df"
      ],
      "execution_count": 2,
      "outputs": [
        {
          "output_type": "execute_result",
          "data": {
            "text/html": [
              "<div>\n",
              "<style scoped>\n",
              "    .dataframe tbody tr th:only-of-type {\n",
              "        vertical-align: middle;\n",
              "    }\n",
              "\n",
              "    .dataframe tbody tr th {\n",
              "        vertical-align: top;\n",
              "    }\n",
              "\n",
              "    .dataframe thead th {\n",
              "        text-align: right;\n",
              "    }\n",
              "</style>\n",
              "<table border=\"1\" class=\"dataframe\">\n",
              "  <thead>\n",
              "    <tr style=\"text-align: right;\">\n",
              "      <th></th>\n",
              "      <th>type</th>\n",
              "      <th>title</th>\n",
              "      <th>content</th>\n",
              "    </tr>\n",
              "  </thead>\n",
              "  <tbody>\n",
              "    <tr>\n",
              "      <th>0</th>\n",
              "      <td>問卦</td>\n",
              "      <td>小北若去日本展店 會被唐吉一拳打死嗎?</td>\n",
              "      <td>\\n號稱台灣版驚安の殿堂的小北百貨\\n\\n24小時全年無休五金百貨生活百貨應有盡有\\n\\n在...</td>\n",
              "    </tr>\n",
              "    <tr>\n",
              "      <th>1</th>\n",
              "      <td>新聞</td>\n",
              "      <td>自排入不分區立委？ 李昭平：吳敦義從沒</td>\n",
              "      <td>\\n※發文無1~6小標格式或未依順序任意刪除者會被刪文\\n\\n1.媒體來源:聯合報\\n※ 例...</td>\n",
              "    </tr>\n",
              "    <tr>\n",
              "      <th>2</th>\n",
              "      <td>問卦</td>\n",
              "      <td>有沒有這波警察被桶覺青消失的八卦？</td>\n",
              "      <td>\\n\\n疑？阿不是只要有警察的新聞出現在八卦版\\n八卦覺青就會高潮？\\n每次不是都愛拿太陽花...</td>\n",
              "    </tr>\n",
              "    <tr>\n",
              "      <th>3</th>\n",
              "      <td>新聞</td>\n",
              "      <td>謝鑫佑被唬到大 小說寫覆鼎金多年後成預言</td>\n",
              "      <td>\\n謝鑫佑被唬到大 小說寫覆鼎金多年後成預言\\n\\n（中央社記者鄭景雯台北3日電）「我跟馬奎...</td>\n",
              "    </tr>\n",
              "    <tr>\n",
              "      <th>4</th>\n",
              "      <td>新聞</td>\n",
              "      <td>促韓國瑜辭職 高市藍綠議員爆肢體衝突</td>\n",
              "      <td>\\n※發文無1~6小標格式或未依順序任意刪除者會被刪文\\n\\n1.媒體來源:\\n※ 例如蘋果...</td>\n",
              "    </tr>\n",
              "    <tr>\n",
              "      <th>...</th>\n",
              "      <td>...</td>\n",
              "      <td>...</td>\n",
              "      <td>...</td>\n",
              "    </tr>\n",
              "    <tr>\n",
              "      <th>19995</th>\n",
              "      <td>問卦</td>\n",
              "      <td>你各位會以碗就口嗎？？？</td>\n",
              "      <td>\\n\\n乳題，是這樣啦\\n小弟現在出來吃飯，環顧四周\\n以碗就口的包括我就只有兩個\\n其他的...</td>\n",
              "    </tr>\n",
              "    <tr>\n",
              "      <th>19996</th>\n",
              "      <td>問卦</td>\n",
              "      <td>握推手腕到底可不可以彎阿？</td>\n",
              "      <td>\\n\\n\\n各位巨巨大家晚安大家好\\n小弟是習慣不彎喇\\n就是往上推時手腕跟手臂成一直線\\n...</td>\n",
              "    </tr>\n",
              "    <tr>\n",
              "      <th>19997</th>\n",
              "      <td>問卦</td>\n",
              "      <td>佐佐木美玲的中文程度到底如何？</td>\n",
              "      <td>\\nhttps://imgur.com/Lm0FbuA.jpg\\n\\n佐佐木美玲小時候曾經住...</td>\n",
              "    </tr>\n",
              "    <tr>\n",
              "      <th>19998</th>\n",
              "      <td>問卦</td>\n",
              "      <td>欸欸欸 講話是不是一定要多XD比較好?</td>\n",
              "      <td>\\n乳體\\n\\n是這樣的拉XD\\n\\n本肥宅常常看到有人在網路上亂嗆人\\n\\n結果就被對方吉...</td>\n",
              "    </tr>\n",
              "    <tr>\n",
              "      <th>19999</th>\n",
              "      <td>問卦</td>\n",
              "      <td>Ptt棋院怎麼沒有黑白棋?</td>\n",
              "      <td>\\n黑白棋的介面在Ptt上面應該不難設計才對\\n\\n日本人超愛下黑白棋，風行程度更是超過日本...</td>\n",
              "    </tr>\n",
              "  </tbody>\n",
              "</table>\n",
              "<p>20000 rows × 3 columns</p>\n",
              "</div>"
            ],
            "text/plain": [
              "      type  ...                                            content\n",
              "0       問卦  ...  \\n號稱台灣版驚安の殿堂的小北百貨\\n\\n24小時全年無休五金百貨生活百貨應有盡有\\n\\n在...\n",
              "1       新聞  ...  \\n※發文無1~6小標格式或未依順序任意刪除者會被刪文\\n\\n1.媒體來源:聯合報\\n※ 例...\n",
              "2       問卦  ...  \\n\\n疑？阿不是只要有警察的新聞出現在八卦版\\n八卦覺青就會高潮？\\n每次不是都愛拿太陽花...\n",
              "3       新聞  ...  \\n謝鑫佑被唬到大 小說寫覆鼎金多年後成預言\\n\\n（中央社記者鄭景雯台北3日電）「我跟馬奎...\n",
              "4       新聞  ...  \\n※發文無1~6小標格式或未依順序任意刪除者會被刪文\\n\\n1.媒體來源:\\n※ 例如蘋果...\n",
              "...    ...  ...                                                ...\n",
              "19995   問卦  ...  \\n\\n乳題，是這樣啦\\n小弟現在出來吃飯，環顧四周\\n以碗就口的包括我就只有兩個\\n其他的...\n",
              "19996   問卦  ...  \\n\\n\\n各位巨巨大家晚安大家好\\n小弟是習慣不彎喇\\n就是往上推時手腕跟手臂成一直線\\n...\n",
              "19997   問卦  ...  \\nhttps://imgur.com/Lm0FbuA.jpg\\n\\n佐佐木美玲小時候曾經住...\n",
              "19998   問卦  ...  \\n乳體\\n\\n是這樣的拉XD\\n\\n本肥宅常常看到有人在網路上亂嗆人\\n\\n結果就被對方吉...\n",
              "19999   問卦  ...  \\n黑白棋的介面在Ptt上面應該不難設計才對\\n\\n日本人超愛下黑白棋，風行程度更是超過日本...\n",
              "\n",
              "[20000 rows x 3 columns]"
            ]
          },
          "metadata": {
            "tags": []
          },
          "execution_count": 2
        }
      ]
    },
    {
      "cell_type": "code",
      "metadata": {
        "id": "9we8O3oP2Iil",
        "colab_type": "code",
        "colab": {
          "base_uri": "https://localhost:8080/",
          "height": 34
        },
        "outputId": "d9862de3-4382-4acb-aed9-dbba9fa764ae"
      },
      "source": [
        "from urllib.request import urlretrieve\n",
        "url = \"https://github.com/fxsjy/jieba/raw/master/extra_dict/dict.txt.big\"\n",
        "urlretrieve(url, \"dict.txt.big\")"
      ],
      "execution_count": 3,
      "outputs": [
        {
          "output_type": "execute_result",
          "data": {
            "text/plain": [
              "('dict.txt.big', <http.client.HTTPMessage at 0x7f0971dbf320>)"
            ]
          },
          "metadata": {
            "tags": []
          },
          "execution_count": 3
        }
      ]
    },
    {
      "cell_type": "code",
      "metadata": {
        "id": "O3goj2zX2hT5",
        "colab_type": "code",
        "colab": {
          "base_uri": "https://localhost:8080/",
          "height": 107
        },
        "outputId": "54eae920-1f87-4c91-f084-6142f56fbe85"
      },
      "source": [
        "import jieba\n",
        "jieba.set_dictionary(\"dict.txt.big\")\n",
        "jieba.load_userdict(\"ptt_dic.txt\")"
      ],
      "execution_count": 4,
      "outputs": [
        {
          "output_type": "stream",
          "text": [
            "Building prefix dict from /content/dict.txt.big ...\n",
            "Dumping model to file cache /tmp/jieba.u501edca284da514cb68b53a20324f4e3.cache\n",
            "Loading model cost 1.603 seconds.\n",
            "Prefix dict has been built succesfully.\n"
          ],
          "name": "stderr"
        }
      ]
    },
    {
      "cell_type": "code",
      "metadata": {
        "id": "yRS4a2mI1ooP",
        "colab_type": "code",
        "colab": {
          "base_uri": "https://localhost:8080/",
          "height": 1000
        },
        "outputId": "df51d73d-89c1-4c90-da4c-9c8b8020c03c"
      },
      "source": [
        "import re\n",
        "def process(content):\n",
        "    content = re.sub(r'https?:\\/\\/.*[\\r\\n]*', '', content)\n",
        "    punct = set(u''':!),.:;?]}¢'\"、。〉》」』】〕〗〞︰︱︳﹐､﹒﹔﹕﹖﹗﹚﹜﹞！），．：；？｜｝︴︶︸︺︼︾﹀﹂﹄﹏､～￠々‖•·ˇˉ―--′’”([{£¥'\"‵〈《「『【〔〖（［｛￡￥〝︵︷︹︻︽︿﹁﹃﹙﹛﹝（｛“‘-—_…~/ －＊➜■─★☆=@<>◉é''')\n",
        "    cut = filter(lambda x: x not in punct, jieba.cut(content))\n",
        "    return \" \".join(cut)\n",
        "df[\"cut\"] = df[\"content\"].apply(process)\n",
        "df"
      ],
      "execution_count": 8,
      "outputs": [
        {
          "output_type": "execute_result",
          "data": {
            "text/html": [
              "<div>\n",
              "<style scoped>\n",
              "    .dataframe tbody tr th:only-of-type {\n",
              "        vertical-align: middle;\n",
              "    }\n",
              "\n",
              "    .dataframe tbody tr th {\n",
              "        vertical-align: top;\n",
              "    }\n",
              "\n",
              "    .dataframe thead th {\n",
              "        text-align: right;\n",
              "    }\n",
              "</style>\n",
              "<table border=\"1\" class=\"dataframe\">\n",
              "  <thead>\n",
              "    <tr style=\"text-align: right;\">\n",
              "      <th></th>\n",
              "      <th>type</th>\n",
              "      <th>title</th>\n",
              "      <th>content</th>\n",
              "      <th>cut</th>\n",
              "    </tr>\n",
              "  </thead>\n",
              "  <tbody>\n",
              "    <tr>\n",
              "      <th>0</th>\n",
              "      <td>問卦</td>\n",
              "      <td>小北若去日本展店 會被唐吉一拳打死嗎?</td>\n",
              "      <td>\\n號稱台灣版驚安の殿堂的小北百貨\\n\\n24小時全年無休五金百貨生活百貨應有盡有\\n\\n在...</td>\n",
              "      <td>\\n 號稱 台灣版 驚安 の 殿堂 的 小北 百貨 \\n \\n 24 小時 全年 無休 五金...</td>\n",
              "    </tr>\n",
              "    <tr>\n",
              "      <th>1</th>\n",
              "      <td>新聞</td>\n",
              "      <td>自排入不分區立委？ 李昭平：吳敦義從沒</td>\n",
              "      <td>\\n※發文無1~6小標格式或未依順序任意刪除者會被刪文\\n\\n1.媒體來源:聯合報\\n※ 例...</td>\n",
              "      <td>\\n ※ 發文 無 1 6 小 標格 式 或 未 依 順序 任意 刪除 者 會 被刪 文 \\...</td>\n",
              "    </tr>\n",
              "    <tr>\n",
              "      <th>2</th>\n",
              "      <td>問卦</td>\n",
              "      <td>有沒有這波警察被桶覺青消失的八卦？</td>\n",
              "      <td>\\n\\n疑？阿不是只要有警察的新聞出現在八卦版\\n八卦覺青就會高潮？\\n每次不是都愛拿太陽花...</td>\n",
              "      <td>\\n \\n 疑 阿 不是 只要 有 警察 的 新聞 出現 在 八卦 版 \\n 八卦 覺青 就...</td>\n",
              "    </tr>\n",
              "    <tr>\n",
              "      <th>3</th>\n",
              "      <td>新聞</td>\n",
              "      <td>謝鑫佑被唬到大 小說寫覆鼎金多年後成預言</td>\n",
              "      <td>\\n謝鑫佑被唬到大 小說寫覆鼎金多年後成預言\\n\\n（中央社記者鄭景雯台北3日電）「我跟馬奎...</td>\n",
              "      <td>\\n 謝鑫佑 被 唬 到 大 小說 寫 覆鼎金 多年 後 成 預言 \\n \\n 中央社 記者...</td>\n",
              "    </tr>\n",
              "    <tr>\n",
              "      <th>4</th>\n",
              "      <td>新聞</td>\n",
              "      <td>促韓國瑜辭職 高市藍綠議員爆肢體衝突</td>\n",
              "      <td>\\n※發文無1~6小標格式或未依順序任意刪除者會被刪文\\n\\n1.媒體來源:\\n※ 例如蘋果...</td>\n",
              "      <td>\\n ※ 發文 無 1 6 小 標格 式 或 未 依 順序 任意 刪除 者 會 被刪 文 \\...</td>\n",
              "    </tr>\n",
              "    <tr>\n",
              "      <th>...</th>\n",
              "      <td>...</td>\n",
              "      <td>...</td>\n",
              "      <td>...</td>\n",
              "      <td>...</td>\n",
              "    </tr>\n",
              "    <tr>\n",
              "      <th>19995</th>\n",
              "      <td>問卦</td>\n",
              "      <td>你各位會以碗就口嗎？？？</td>\n",
              "      <td>\\n\\n乳題，是這樣啦\\n小弟現在出來吃飯，環顧四周\\n以碗就口的包括我就只有兩個\\n其他的...</td>\n",
              "      <td>\\n \\n 乳題 是 這樣 啦 \\n 小弟 現在 出來 吃飯 環顧四周 \\n 以碗 就 口 ...</td>\n",
              "    </tr>\n",
              "    <tr>\n",
              "      <th>19996</th>\n",
              "      <td>問卦</td>\n",
              "      <td>握推手腕到底可不可以彎阿？</td>\n",
              "      <td>\\n\\n\\n各位巨巨大家晚安大家好\\n小弟是習慣不彎喇\\n就是往上推時手腕跟手臂成一直線\\n...</td>\n",
              "      <td>\\n \\n \\n 各位 巨 巨大 家 晚安 大家 好 \\n 小弟 是 習慣 不彎 喇 \\n ...</td>\n",
              "    </tr>\n",
              "    <tr>\n",
              "      <th>19997</th>\n",
              "      <td>問卦</td>\n",
              "      <td>佐佐木美玲的中文程度到底如何？</td>\n",
              "      <td>\\nhttps://imgur.com/Lm0FbuA.jpg\\n\\n佐佐木美玲小時候曾經住...</td>\n",
              "      <td>\\n 佐佐木 美玲 小時候 曾經 住過 台灣 \\n \\n 也 曾 在 節目 中 透露 這段 ...</td>\n",
              "    </tr>\n",
              "    <tr>\n",
              "      <th>19998</th>\n",
              "      <td>問卦</td>\n",
              "      <td>欸欸欸 講話是不是一定要多XD比較好?</td>\n",
              "      <td>\\n乳體\\n\\n是這樣的拉XD\\n\\n本肥宅常常看到有人在網路上亂嗆人\\n\\n結果就被對方吉...</td>\n",
              "      <td>\\n 乳體 \\n \\n 是 這樣 的 拉 XD \\n \\n 本 肥宅 常常 看到 有人 在 ...</td>\n",
              "    </tr>\n",
              "    <tr>\n",
              "      <th>19999</th>\n",
              "      <td>問卦</td>\n",
              "      <td>Ptt棋院怎麼沒有黑白棋?</td>\n",
              "      <td>\\n黑白棋的介面在Ptt上面應該不難設計才對\\n\\n日本人超愛下黑白棋，風行程度更是超過日本...</td>\n",
              "      <td>\\n 黑白棋 的 介面 在 Ptt 上面 應該 不難 設計 才 對 \\n \\n 日本 人 超...</td>\n",
              "    </tr>\n",
              "  </tbody>\n",
              "</table>\n",
              "<p>20000 rows × 4 columns</p>\n",
              "</div>"
            ],
            "text/plain": [
              "      type  ...                                                cut\n",
              "0       問卦  ...  \\n 號稱 台灣版 驚安 の 殿堂 的 小北 百貨 \\n \\n 24 小時 全年 無休 五金...\n",
              "1       新聞  ...  \\n ※ 發文 無 1 6 小 標格 式 或 未 依 順序 任意 刪除 者 會 被刪 文 \\...\n",
              "2       問卦  ...  \\n \\n 疑 阿 不是 只要 有 警察 的 新聞 出現 在 八卦 版 \\n 八卦 覺青 就...\n",
              "3       新聞  ...  \\n 謝鑫佑 被 唬 到 大 小說 寫 覆鼎金 多年 後 成 預言 \\n \\n 中央社 記者...\n",
              "4       新聞  ...  \\n ※ 發文 無 1 6 小 標格 式 或 未 依 順序 任意 刪除 者 會 被刪 文 \\...\n",
              "...    ...  ...                                                ...\n",
              "19995   問卦  ...  \\n \\n 乳題 是 這樣 啦 \\n 小弟 現在 出來 吃飯 環顧四周 \\n 以碗 就 口 ...\n",
              "19996   問卦  ...  \\n \\n \\n 各位 巨 巨大 家 晚安 大家 好 \\n 小弟 是 習慣 不彎 喇 \\n ...\n",
              "19997   問卦  ...  \\n 佐佐木 美玲 小時候 曾經 住過 台灣 \\n \\n 也 曾 在 節目 中 透露 這段 ...\n",
              "19998   問卦  ...  \\n 乳體 \\n \\n 是 這樣 的 拉 XD \\n \\n 本 肥宅 常常 看到 有人 在 ...\n",
              "19999   問卦  ...  \\n 黑白棋 的 介面 在 Ptt 上面 應該 不難 設計 才 對 \\n \\n 日本 人 超...\n",
              "\n",
              "[20000 rows x 4 columns]"
            ]
          },
          "metadata": {
            "tags": []
          },
          "execution_count": 8
        }
      ]
    },
    {
      "cell_type": "code",
      "metadata": {
        "id": "XvIFI-aGLRMT",
        "colab_type": "code",
        "colab": {}
      },
      "source": [
        "df.to_csv(\"ptt_small_cut.csv\", \n",
        "          encoding=\"utf-8\", \n",
        "          index=False)"
      ],
      "execution_count": 0,
      "outputs": []
    },
    {
      "cell_type": "code",
      "metadata": {
        "id": "MoWaBoCALjWH",
        "colab_type": "code",
        "colab": {}
      },
      "source": [
        "# 存成txt 所有句子都存下去 方便gensim使用\n",
        "f = open(\"pttjoin.txt\", \"w\", encoding=\"utf-8\")\n",
        "for c in df[\"cut\"]:\n",
        "    f.write(c)\n",
        "    f.write(\"\\n\")\n",
        "f.close()"
      ],
      "execution_count": 0,
      "outputs": []
    },
    {
      "cell_type": "code",
      "metadata": {
        "id": "LEu4MokSNuLV",
        "colab_type": "code",
        "colab": {
          "base_uri": "https://localhost:8080/",
          "height": 72
        },
        "outputId": "005b9785-9681-4a75-d59a-2c2704e73841"
      },
      "source": [
        "from gensim.models import word2vec\n",
        "s = word2vec.LineSentence(\"pttjoin.txt\")\n",
        "w2v = word2vec.Word2Vec(sentences=s)"
      ],
      "execution_count": 14,
      "outputs": [
        {
          "output_type": "stream",
          "text": [
            "/usr/local/lib/python3.6/dist-packages/smart_open/smart_open_lib.py:402: UserWarning: This function is deprecated, use smart_open.open instead. See the migration notes for details: https://github.com/RaRe-Technologies/smart_open/blob/master/README.rst#migrating-to-the-new-open-function\n",
            "  'See the migration notes for details: %s' % _MIGRATION_NOTES_URL\n"
          ],
          "name": "stderr"
        }
      ]
    },
    {
      "cell_type": "code",
      "metadata": {
        "id": "EhzCVq75SfTk",
        "colab_type": "code",
        "colab": {
          "base_uri": "https://localhost:8080/",
          "height": 34
        },
        "outputId": "b3556539-02b1-4ab9-f0f7-848f619df273"
      },
      "source": [
        "len(w2v.wv.vocab)"
      ],
      "execution_count": 18,
      "outputs": [
        {
          "output_type": "execute_result",
          "data": {
            "text/plain": [
              "41565"
            ]
          },
          "metadata": {
            "tags": []
          },
          "execution_count": 18
        }
      ]
    },
    {
      "cell_type": "code",
      "metadata": {
        "id": "VZQXs3KwTBRE",
        "colab_type": "code",
        "colab": {
          "base_uri": "https://localhost:8080/",
          "height": 372
        },
        "outputId": "239338d9-dc42-4eae-9bdb-f3e7510f3df0"
      },
      "source": [
        "print(\"鄉民\" in w2v.wv.vocab)\n",
        "print(len(w2v.wv[\"鄉民\"]))\n",
        "print(w2v.wv[\"鄉民\"])\n",
        "# print(w2v.wv[\"Elwing\"])"
      ],
      "execution_count": 26,
      "outputs": [
        {
          "output_type": "stream",
          "text": [
            "True\n",
            "100\n",
            "[-0.15985529 -0.5476803   0.26955894  0.61652404  0.72476554  0.00889046\n",
            " -0.31734186 -1.2011044   0.8844294  -0.22744337 -0.10338891  0.6374301\n",
            " -0.56073844  1.1218026  -0.29598844 -0.4628363  -0.8231379   0.07353399\n",
            "  0.12815751  0.5322549  -0.46187794  0.35839084  0.9705587   2.0338726\n",
            "  0.16325417  1.0004284  -1.1853842   0.17081328  0.08127408 -1.6597779\n",
            " -1.3439851   1.2283653  -0.51194483  1.1701411   1.1750991   0.04169622\n",
            " -1.3569165  -0.8725522   0.3829452   0.25666222  0.3809851  -0.87765074\n",
            " -0.71068    -0.22475015  0.3063793  -1.6411599   1.5914305  -2.0248554\n",
            "  1.4750154   0.04102468 -0.8667545  -0.13993108  1.5173948   0.7393344\n",
            " -1.4282029  -0.3511927  -0.7584047   0.90260214  1.4530778  -2.0904408\n",
            "  0.921235   -0.5199393  -0.65913504  0.7728649   1.0563887   1.1022329\n",
            "  2.1931548   1.9661158  -0.62844455  1.3462057  -0.10090322 -0.56921244\n",
            " -0.17537324 -0.5297864   1.048531    1.540108   -0.16929725 -0.8103946\n",
            "  2.04469     1.3365232   1.2491163   1.1320338   0.16442327 -1.2016467\n",
            "  0.17284544  0.16940147  0.9755478  -0.6253239   0.8296979  -1.1578528\n",
            "  0.21537873  0.24712327  0.99341196  0.08663027  0.35567686  1.7184436\n",
            "  1.9376159   0.31861255 -1.5903776   0.36822447]\n"
          ],
          "name": "stdout"
        }
      ]
    },
    {
      "cell_type": "code",
      "metadata": {
        "id": "fcD1vKiIU2Yo",
        "colab_type": "code",
        "colab": {
          "base_uri": "https://localhost:8080/",
          "height": 249
        },
        "outputId": "89d817ea-9c55-4c98-97ce-632b111b870e"
      },
      "source": [
        "w2v.wv.most_similar(\"鄉民\")"
      ],
      "execution_count": 27,
      "outputs": [
        {
          "output_type": "stream",
          "text": [
            "/usr/local/lib/python3.6/dist-packages/gensim/matutils.py:737: FutureWarning: Conversion of the second argument of issubdtype from `int` to `np.signedinteger` is deprecated. In future, it will be treated as `np.int64 == np.dtype(int).type`.\n",
            "  if np.issubdtype(vec.dtype, np.int):\n"
          ],
          "name": "stderr"
        },
        {
          "output_type": "execute_result",
          "data": {
            "text/plain": [
              "[('大大', 0.7917182445526123),\n",
              " ('版友', 0.7836742401123047),\n",
              " ('版上', 0.7732019424438477),\n",
              " ('板上', 0.7595763206481934),\n",
              " ('高手', 0.7278456687927246),\n",
              " ('各位', 0.7222411632537842),\n",
              " ('大家', 0.6938453912734985),\n",
              " ('鍵盤', 0.6921349763870239),\n",
              " ('前輩', 0.6740589141845703),\n",
              " ('推薦', 0.6655817031860352)]"
            ]
          },
          "metadata": {
            "tags": []
          },
          "execution_count": 27
        }
      ]
    },
    {
      "cell_type": "code",
      "metadata": {
        "id": "DguVvAYtTpwN",
        "colab_type": "code",
        "colab": {
          "base_uri": "https://localhost:8080/",
          "height": 229
        },
        "outputId": "4faef953-8c6c-48cb-f430-df4e587be8b7"
      },
      "source": [
        "from jieba.analyse import extract_tags\n",
        "import numpy as np\n",
        "def doc2vec(cut):\n",
        "    tags = extract_tags(cut, None, withWeight=True)\n",
        "    vec = np.zeros((100, ))\n",
        "    total = 0.0\n",
        "    for w, tfidf in tags:\n",
        "        if w in w2v.wv.vocab:\n",
        "            vec = vec + tfidf * w2v.wv[w]\n",
        "            total = total + tfidf\n",
        "    return vec / total\n",
        "dv = df[\"cut\"].apply(doc2vec)\n",
        "dv"
      ],
      "execution_count": 34,
      "outputs": [
        {
          "output_type": "execute_result",
          "data": {
            "text/plain": [
              "0        [-0.12348128291351189, 0.06866017504772567, 0....\n",
              "1        [-0.5641416039828637, -0.345535916999904, 0.26...\n",
              "2        [-0.4421462303040751, -0.2742601407078124, 0.1...\n",
              "3        [-0.22459998096070985, -0.1308458073887961, 0....\n",
              "4        [-0.6068856344670618, -0.12858187736900753, 0....\n",
              "                               ...                        \n",
              "19995    [-0.1563053996390304, 0.13077198349290883, 0.5...\n",
              "19996    [-0.2965462396558764, -0.46915263548712266, 0....\n",
              "19997    [-0.3822165196793077, -0.03680728228653839, 0....\n",
              "19998    [-0.7233082591939097, -0.5935346465117327, 0.7...\n",
              "19999    [-0.24319892697403164, -0.1605230833616525, 0....\n",
              "Name: cut, Length: 20000, dtype: object"
            ]
          },
          "metadata": {
            "tags": []
          },
          "execution_count": 34
        }
      ]
    },
    {
      "cell_type": "code",
      "metadata": {
        "id": "eur381ufbSVf",
        "colab_type": "code",
        "colab": {}
      },
      "source": [
        "f = open(\"article.txt\", \"w\", encoding=\"utf-8\")\n",
        "f.write(\"{} {}\\n\".format(len(dv), 100))\n",
        "for i, v in enumerate(dv):\n",
        "    writed = \" \".join(map(str, v))\n",
        "    f.write(\"{} {}\\n\".format(i, writed))\n",
        "f.close()"
      ],
      "execution_count": 0,
      "outputs": []
    },
    {
      "cell_type": "code",
      "metadata": {
        "id": "3snZljKMdHyF",
        "colab_type": "code",
        "colab": {}
      },
      "source": [
        "import gensim\n",
        "d2v = gensim.models.KeyedVectors.load_word2vec_format(\"article.txt\", binary=False)"
      ],
      "execution_count": 0,
      "outputs": []
    },
    {
      "cell_type": "code",
      "metadata": {
        "id": "Z_Ao3tzZdtzR",
        "colab_type": "code",
        "colab": {
          "base_uri": "https://localhost:8080/",
          "height": 1000
        },
        "outputId": "dd26547b-9004-402a-9852-8be5ae433323"
      },
      "source": [
        "i = input(\"你要哪篇文章\")\n",
        "print(\"*\" * 30)\n",
        "article = df.iloc[int(i)]\n",
        "print(\"標題是:\", article[\"title\"])\n",
        "print(\"內容是:\", article[\"content\"])\n",
        "print(\"*\" * 30)\n",
        "mi, cos = d2v.wv.most_similar(i)[0]\n",
        "article = df.iloc[int(mi)]\n",
        "print(\"標題是:\", article[\"title\"])\n",
        "print(\"內容是:\", article[\"content\"])"
      ],
      "execution_count": 43,
      "outputs": [
        {
          "output_type": "stream",
          "text": [
            "你要哪篇文章1\n",
            "******************************\n",
            "標題是: 自排入不分區立委？ 李昭平：吳敦義從沒\n",
            "內容是: \n",
            "※發文無1~6小標格式或未依順序任意刪除者會被刪文\n",
            "\n",
            "1.媒體來源:聯合報\n",
            "※ 例如蘋果日報、自由時報（請參考版規下方的核准媒體名單）\n",
            "\n",
            "\n",
            "2.記者署名 記者周志豪\n",
            "※ 沒有在這打上記者署名的新聞會被水桶14天 編輯非記者\n",
            "※ 外電至少要有來源或編輯 如:法新社\n",
            "\n",
            "\n",
            "3.完整新聞標題:自排入不分區立委？ 李昭平：吳敦義從沒考慮放第一名\n",
            "※ 標題沒有完整寫出來 ---> 依照板規刪除文章\n",
            "\n",
            "\n",
            "4.完整新聞內文:\n",
            "國民黨主席吳敦義考慮是否自排入下屆國民黨不分區立委名單，但究竟要排在第一名或安\n",
            "全名單邊緣，各種聲音都有。中常委李昭平受訪時表示，吳上午在出席全國勞工後援會會\n",
            "議時，被出席代表問到相關問題，表示「從來沒有考慮放在第一名」。\n",
            "\n",
            "李昭平說，早上開勞工後援會，有人詢問吳敦義「是不是考慮放在國民黨不分區立委第一\n",
            "名」，吳回答「絕對沒有考慮過這件事情，沒有做這個考量過」。李昭平認為，吳事實上\n",
            "也不需要這樣考量，放在第一名就毫無意義。\n",
            "\n",
            "李昭平表示，黨內有這個聲音認為吳敦義如果能夠放在下屆不分區立委名單後段，在安全\n",
            "名單後面一點的話，對大家希望吳領頭羊往前衝，才是有意義的事情，放在第一名根本沒\n",
            "有意義，吳自己都說他不考慮。\n",
            "\n",
            "但吳敦義這樣的回應，是否代表吳敦義已經決定自放入名單，只是順序有別？李昭平說，\n",
            "吳有沒有考慮放入名單不知道，這是主席權力。\n",
            "※ 社論特稿都不能貼！違者刪除（政治類水桶3個月)，貼廣告也會被刪除喔！可詳看版規\n",
            "\n",
            "\n",
            "5.完整新聞連結 (或短網址):\n",
            "https://udn.com/news/story/7548/4095546?from=udn-ch1_breaknews-1-0-news\n",
            "※ 當新聞連結過長時，需提供短網址方便網友點擊\n",
            "\n",
            "\n",
            "6.備註:\n",
            "沒考慮放第一名\n",
            "\n",
            "可以放第二名\n",
            "※ 一個人一天只能張貼一則新聞，被刪或自刪也算額度內，超貼者水桶，請注意\n",
            "\n",
            "--\n",
            "\n",
            "******************************\n",
            "標題是: 蔡英文視察萬大線 柯文哲：還在蓋、現在\n",
            "內容是: \n",
            "※發文無1~6小標格式或未依順序任意刪除者會被刪文\n",
            "\n",
            "1.媒體來源:\n",
            "自由\n",
            "※ 例如蘋果日報、自由時報（請參考版規下方的核准媒體名單）\n",
            "\n",
            "\n",
            "2.記者署名\n",
            "沈佩瑤\n",
            "※ 沒有在這打上記者署名的新聞會被水桶14天 編輯非記者\n",
            "※ 外電至少要有來源或編輯 如:法新社\n",
            "\n",
            "\n",
            "3.完整新聞標題:\n",
            "蔡英文視察萬大線 柯文哲：還在蓋、現在沒必要去看\n",
            "※ 標題沒有完整寫出來 ---> 依照板規刪除文章\n",
            "\n",
            "\n",
            "4.完整新聞內文:\n",
            "蔡英文總統今天上午前往新北市，視察由台北市捷運工程局主政的捷運萬大線樹林線二期\n",
            "，包括交通部長林佳龍、新北市長侯友宜等人都出席，台北市政府卻僅派副市長鄧家基前\n",
            "往，被外界解讀是柯文哲不願和蔡英文同台，也不願做政績給民進黨。\n",
            "\n",
            "對此，柯文哲今受訪時表示，自己不清楚，要看一下資料，不過萬大線是由台北市政府執\n",
            "行，目前還在興建，現在沒有理由去看啊，工程還在進行中，為什麼現在要去看，年底會\n",
            "通車的中環線。\n",
            "\n",
            "此外，對於臉書粉絲團一週狂掉兩萬人，柯文哲則認為，差不多差不多，組黨還是有影響\n",
            "，有些人是因為你白色力量無黨派，支持你，我們也想過這個問題，但政治上實際考量是\n",
            "，不分區立委沒有政黨怎麼進去，所以還是沒有辦法，就是在現實基礎上堅持最大理想，\n",
            "有時候會損失一下，那也沒有辦法。\n",
            "※ 社論特稿都不能貼！違者刪除（政治類水桶3個月)，貼廣告也會被刪除喔！可詳看版規\n",
            "\n",
            "\n",
            "5.完整新聞連結 (或短網址):\n",
            "https://news.ltn.com.tw/news/Taipei/breakingnews/2881648\n",
            "※ 當新聞連結過長時，需提供短網址方便網友點擊\n",
            "\n",
            "\n",
            "6.備註:\n",
            "※ 一個人一天只能張貼一則新聞，被刪或自刪也算額度內，超貼者水桶，請注意\n",
            "\n",
            "--\n",
            "\n"
          ],
          "name": "stdout"
        },
        {
          "output_type": "stream",
          "text": [
            "/usr/local/lib/python3.6/dist-packages/ipykernel_launcher.py:7: DeprecationWarning: Call to deprecated `wv` (Attribute will be removed in 4.0.0, use self instead).\n",
            "  import sys\n",
            "/usr/local/lib/python3.6/dist-packages/gensim/matutils.py:737: FutureWarning: Conversion of the second argument of issubdtype from `int` to `np.signedinteger` is deprecated. In future, it will be treated as `np.int64 == np.dtype(int).type`.\n",
            "  if np.issubdtype(vec.dtype, np.int):\n"
          ],
          "name": "stderr"
        }
      ]
    }
  ]
}