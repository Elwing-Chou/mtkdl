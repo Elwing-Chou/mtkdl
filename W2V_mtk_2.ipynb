{
  "nbformat": 4,
  "nbformat_minor": 0,
  "metadata": {
    "colab": {
      "name": "W2V_1.ipynb",
      "provenance": []
    },
    "kernelspec": {
      "name": "python3",
      "display_name": "Python 3"
    },
    "accelerator": "GPU"
  },
  "cells": [
    {
      "cell_type": "code",
      "metadata": {
        "id": "1_xKL8PUTCDz",
        "colab_type": "code",
        "colab": {
          "base_uri": "https://localhost:8080/",
          "height": 606
        },
        "outputId": "bf1cde6f-203c-4dba-89ff-06d4d497dd83"
      },
      "source": [
        "import pandas as pd\n",
        "df = pd.read_csv(\"pttexsmall.csv\",\n",
        "                 encoding=\"utf-8\")\n",
        "df"
      ],
      "execution_count": 2,
      "outputs": [
        {
          "output_type": "execute_result",
          "data": {
            "text/html": [
              "<div>\n",
              "<style scoped>\n",
              "    .dataframe tbody tr th:only-of-type {\n",
              "        vertical-align: middle;\n",
              "    }\n",
              "\n",
              "    .dataframe tbody tr th {\n",
              "        vertical-align: top;\n",
              "    }\n",
              "\n",
              "    .dataframe thead th {\n",
              "        text-align: right;\n",
              "    }\n",
              "</style>\n",
              "<table border=\"1\" class=\"dataframe\">\n",
              "  <thead>\n",
              "    <tr style=\"text-align: right;\">\n",
              "      <th></th>\n",
              "      <th>type</th>\n",
              "      <th>title</th>\n",
              "      <th>content</th>\n",
              "    </tr>\n",
              "  </thead>\n",
              "  <tbody>\n",
              "    <tr>\n",
              "      <th>0</th>\n",
              "      <td>問卦</td>\n",
              "      <td>小北若去日本展店 會被唐吉一拳打死嗎?</td>\n",
              "      <td>\\n號稱台灣版驚安の殿堂的小北百貨\\n\\n24小時全年無休五金百貨生活百貨應有盡有\\n\\n在...</td>\n",
              "    </tr>\n",
              "    <tr>\n",
              "      <th>1</th>\n",
              "      <td>新聞</td>\n",
              "      <td>自排入不分區立委？ 李昭平：吳敦義從沒</td>\n",
              "      <td>\\n※發文無1~6小標格式或未依順序任意刪除者會被刪文\\n\\n1.媒體來源:聯合報\\n※ 例...</td>\n",
              "    </tr>\n",
              "    <tr>\n",
              "      <th>2</th>\n",
              "      <td>問卦</td>\n",
              "      <td>有沒有這波警察被桶覺青消失的八卦？</td>\n",
              "      <td>\\n\\n疑？阿不是只要有警察的新聞出現在八卦版\\n八卦覺青就會高潮？\\n每次不是都愛拿太陽花...</td>\n",
              "    </tr>\n",
              "    <tr>\n",
              "      <th>3</th>\n",
              "      <td>新聞</td>\n",
              "      <td>謝鑫佑被唬到大 小說寫覆鼎金多年後成預言</td>\n",
              "      <td>\\n謝鑫佑被唬到大 小說寫覆鼎金多年後成預言\\n\\n（中央社記者鄭景雯台北3日電）「我跟馬奎...</td>\n",
              "    </tr>\n",
              "    <tr>\n",
              "      <th>4</th>\n",
              "      <td>新聞</td>\n",
              "      <td>促韓國瑜辭職 高市藍綠議員爆肢體衝突</td>\n",
              "      <td>\\n※發文無1~6小標格式或未依順序任意刪除者會被刪文\\n\\n1.媒體來源:\\n※ 例如蘋果...</td>\n",
              "    </tr>\n",
              "    <tr>\n",
              "      <th>...</th>\n",
              "      <td>...</td>\n",
              "      <td>...</td>\n",
              "      <td>...</td>\n",
              "    </tr>\n",
              "    <tr>\n",
              "      <th>19995</th>\n",
              "      <td>問卦</td>\n",
              "      <td>你各位會以碗就口嗎？？？</td>\n",
              "      <td>\\n\\n乳題，是這樣啦\\n小弟現在出來吃飯，環顧四周\\n以碗就口的包括我就只有兩個\\n其他的...</td>\n",
              "    </tr>\n",
              "    <tr>\n",
              "      <th>19996</th>\n",
              "      <td>問卦</td>\n",
              "      <td>握推手腕到底可不可以彎阿？</td>\n",
              "      <td>\\n\\n\\n各位巨巨大家晚安大家好\\n小弟是習慣不彎喇\\n就是往上推時手腕跟手臂成一直線\\n...</td>\n",
              "    </tr>\n",
              "    <tr>\n",
              "      <th>19997</th>\n",
              "      <td>問卦</td>\n",
              "      <td>佐佐木美玲的中文程度到底如何？</td>\n",
              "      <td>\\nhttps://imgur.com/Lm0FbuA.jpg\\n\\n佐佐木美玲小時候曾經住...</td>\n",
              "    </tr>\n",
              "    <tr>\n",
              "      <th>19998</th>\n",
              "      <td>問卦</td>\n",
              "      <td>欸欸欸 講話是不是一定要多XD比較好?</td>\n",
              "      <td>\\n乳體\\n\\n是這樣的拉XD\\n\\n本肥宅常常看到有人在網路上亂嗆人\\n\\n結果就被對方吉...</td>\n",
              "    </tr>\n",
              "    <tr>\n",
              "      <th>19999</th>\n",
              "      <td>問卦</td>\n",
              "      <td>Ptt棋院怎麼沒有黑白棋?</td>\n",
              "      <td>\\n黑白棋的介面在Ptt上面應該不難設計才對\\n\\n日本人超愛下黑白棋，風行程度更是超過日本...</td>\n",
              "    </tr>\n",
              "  </tbody>\n",
              "</table>\n",
              "<p>20000 rows × 3 columns</p>\n",
              "</div>"
            ],
            "text/plain": [
              "      type  ...                                            content\n",
              "0       問卦  ...  \\n號稱台灣版驚安の殿堂的小北百貨\\n\\n24小時全年無休五金百貨生活百貨應有盡有\\n\\n在...\n",
              "1       新聞  ...  \\n※發文無1~6小標格式或未依順序任意刪除者會被刪文\\n\\n1.媒體來源:聯合報\\n※ 例...\n",
              "2       問卦  ...  \\n\\n疑？阿不是只要有警察的新聞出現在八卦版\\n八卦覺青就會高潮？\\n每次不是都愛拿太陽花...\n",
              "3       新聞  ...  \\n謝鑫佑被唬到大 小說寫覆鼎金多年後成預言\\n\\n（中央社記者鄭景雯台北3日電）「我跟馬奎...\n",
              "4       新聞  ...  \\n※發文無1~6小標格式或未依順序任意刪除者會被刪文\\n\\n1.媒體來源:\\n※ 例如蘋果...\n",
              "...    ...  ...                                                ...\n",
              "19995   問卦  ...  \\n\\n乳題，是這樣啦\\n小弟現在出來吃飯，環顧四周\\n以碗就口的包括我就只有兩個\\n其他的...\n",
              "19996   問卦  ...  \\n\\n\\n各位巨巨大家晚安大家好\\n小弟是習慣不彎喇\\n就是往上推時手腕跟手臂成一直線\\n...\n",
              "19997   問卦  ...  \\nhttps://imgur.com/Lm0FbuA.jpg\\n\\n佐佐木美玲小時候曾經住...\n",
              "19998   問卦  ...  \\n乳體\\n\\n是這樣的拉XD\\n\\n本肥宅常常看到有人在網路上亂嗆人\\n\\n結果就被對方吉...\n",
              "19999   問卦  ...  \\n黑白棋的介面在Ptt上面應該不難設計才對\\n\\n日本人超愛下黑白棋，風行程度更是超過日本...\n",
              "\n",
              "[20000 rows x 3 columns]"
            ]
          },
          "metadata": {
            "tags": []
          },
          "execution_count": 2
        }
      ]
    },
    {
      "cell_type": "code",
      "metadata": {
        "id": "v4PU62-QmfiQ",
        "colab_type": "code",
        "colab": {
          "base_uri": "https://localhost:8080/",
          "height": 35
        },
        "outputId": "7a515577-22dc-49a7-fc24-2da01c7b5d11"
      },
      "source": [
        "from urllib.request import urlretrieve\n",
        "url = \"https://github.com/fxsjy/jieba/raw/master/extra_dict/dict.txt.big\"\n",
        "urlretrieve(url, \"dict.txt.big\")"
      ],
      "execution_count": 3,
      "outputs": [
        {
          "output_type": "execute_result",
          "data": {
            "text/plain": [
              "('dict.txt.big', <http.client.HTTPMessage at 0x7f764937de80>)"
            ]
          },
          "metadata": {
            "tags": []
          },
          "execution_count": 3
        }
      ]
    },
    {
      "cell_type": "code",
      "metadata": {
        "id": "u7TtMk5cm1_C",
        "colab_type": "code",
        "colab": {
          "base_uri": "https://localhost:8080/",
          "height": 109
        },
        "outputId": "3cb8a413-e7f4-49cd-c5b2-84ce02eb57bc"
      },
      "source": [
        "import jieba\n",
        "jieba.set_dictionary(\"dict.txt.big\")\n",
        "jieba.load_userdict(\"ptt_dic.txt\")"
      ],
      "execution_count": 6,
      "outputs": [
        {
          "output_type": "stream",
          "text": [
            "Building prefix dict from /content/dict.txt.big ...\n",
            "Loading model from cache /tmp/jieba.u501edca284da514cb68b53a20324f4e3.cache\n",
            "Loading model cost 1.121 seconds.\n",
            "Prefix dict has been built succesfully.\n"
          ],
          "name": "stderr"
        }
      ]
    },
    {
      "cell_type": "code",
      "metadata": {
        "id": "yCl5lX5gm4Vr",
        "colab_type": "code",
        "colab": {
          "base_uri": "https://localhost:8080/",
          "height": 253
        },
        "outputId": "22fee7b6-af70-4400-ba00-c4b1b731b609"
      },
      "source": [
        "import re\n",
        "def pttcut(content):\n",
        "    content = re.sub(r'https?:\\/\\/.*[\\r\\n]*', '', content)\n",
        "    punct = set(u'''※:!),.:;?]}¢'\"、。〉》」』】〕〗〞︰︱︳﹐､﹒﹔﹕﹖﹗﹚﹜﹞！），．：；？｜｝︴︶︸︺︼︾﹀﹂﹄﹏､～￠々‖•·ˇˉ―--′’”([{£¥'\"‵〈《「『【〔〖（［｛￡￥〝︵︷︹︻︽︿﹁﹃﹙﹛﹝（｛“‘-—_…~/ －＊➜■─★☆=@<>◉é''')\n",
        "    content = filter(lambda x: x not in punct, jieba.cut(content))\n",
        "    content = \" \".join(content)\n",
        "    return content\n",
        "x_train = df[\"content\"].apply(pttcut)\n",
        "x_train"
      ],
      "execution_count": 20,
      "outputs": [
        {
          "output_type": "execute_result",
          "data": {
            "text/plain": [
              "0        \\n 號稱 台灣版 驚安 の 殿堂 的 小北 百貨 \\n \\n 24 小時 全年 無休 五金...\n",
              "1        \\n 發文 無 1 6 小 標格 式 或 未 依 順序 任意 刪除 者 會 被刪 文 \\n ...\n",
              "2        \\n \\n 疑 阿 不是 只要 有 警察 的 新聞 出現 在 八卦 版 \\n 八卦 覺青 就...\n",
              "3        \\n 謝鑫佑 被 唬 到 大 小說 寫 覆鼎金 多年 後 成 預言 \\n \\n 中央社 記者...\n",
              "4        \\n 發文 無 1 6 小 標格 式 或 未 依 順序 任意 刪除 者 會 被刪 文 \\n ...\n",
              "                               ...                        \n",
              "19995    \\n \\n 乳題 是 這樣 啦 \\n 小弟 現在 出來 吃飯 環顧四周 \\n 以碗 就 口 ...\n",
              "19996    \\n \\n \\n 各位 巨 巨大 家 晚安 大家 好 \\n 小弟 是 習慣 不彎 喇 \\n ...\n",
              "19997    \\n 佐佐木 美玲 小時候 曾經 住過 台灣 \\n \\n 也 曾 在 節目 中 透露 這段 ...\n",
              "19998    \\n 乳體 \\n \\n 是 這樣 的 拉 XD \\n \\n 本 肥宅 常常 看到 有人 在 ...\n",
              "19999    \\n 黑白棋 的 介面 在 Ptt 上面 應該 不難 設計 才 對 \\n \\n 日本 人 超...\n",
              "Name: content, Length: 20000, dtype: object"
            ]
          },
          "metadata": {
            "tags": []
          },
          "execution_count": 20
        }
      ]
    },
    {
      "cell_type": "code",
      "metadata": {
        "id": "0lbo1i-0pw5x",
        "colab_type": "code",
        "colab": {}
      },
      "source": [
        "with open(\"pttjoin.txt\", \"w\", encoding=\"utf-8\") as f:\n",
        "    for post in x_train:\n",
        "        f.write(\"{}\\n\".format(post))"
      ],
      "execution_count": 0,
      "outputs": []
    },
    {
      "cell_type": "code",
      "metadata": {
        "id": "jQLENsxWriAk",
        "colab_type": "code",
        "colab": {}
      },
      "source": [
        "from gensim.models import word2vec\n",
        "sentences = word2vec.LineSentence(\"pttjoin.txt\")\n",
        "w2v = word2vec.Word2Vec(sentences)"
      ],
      "execution_count": 0,
      "outputs": []
    },
    {
      "cell_type": "code",
      "metadata": {
        "id": "hzABtz3buJWu",
        "colab_type": "code",
        "colab": {
          "base_uri": "https://localhost:8080/",
          "height": 485
        },
        "outputId": "4ea78d8c-2c01-4606-d6e5-5fce4b1acd6f"
      },
      "source": [
        "print(\"長度:\", len(w2v.wv[\"版主\"]))\n",
        "print(w2v.wv[\"版主\"])"
      ],
      "execution_count": 34,
      "outputs": [
        {
          "output_type": "stream",
          "text": [
            "長度: 100\n",
            "[ 1.53386876e-01  8.36472452e-01  7.17519939e-01  2.04413041e-01\n",
            "  7.88582787e-02 -1.29385757e+00  6.75272942e-02 -1.15053326e-01\n",
            "  1.58662081e+00  3.21040034e-01 -1.04300117e+00 -2.33950496e+00\n",
            "  1.13483882e+00  1.13359416e+00  4.53226000e-01 -1.12570241e-01\n",
            " -7.43146718e-01 -2.85393476e-01 -1.65798259e+00  2.20111273e-02\n",
            "  1.47811627e+00  7.01383829e-01  3.65965188e-01  6.85045421e-01\n",
            "  3.75782639e-01 -1.03727865e+00 -6.96159542e-01 -2.54775554e-01\n",
            " -3.32901269e-01 -1.00274110e+00 -8.25740814e-01 -3.86278778e-01\n",
            " -9.57706988e-01 -4.10359591e-01  1.94391772e-01  5.69884837e-01\n",
            " -1.60972271e-02  2.48963669e-01  3.47311109e-01  5.27418852e-01\n",
            "  1.13378084e+00 -1.24696933e-01  2.15328783e-01 -9.30124342e-01\n",
            " -2.23991331e-02 -1.66588262e-01 -1.96349755e-01  2.66207326e-02\n",
            " -5.49432218e-01 -2.74259776e-01  2.13448913e-03 -1.44408807e-01\n",
            " -1.26407385e-01 -5.62842667e-01 -4.24519628e-01  3.72676291e-02\n",
            "  3.60706687e-01  4.04521078e-02  5.85256934e-01  3.71958673e-01\n",
            " -4.65994895e-01  3.53876263e-01 -2.29557961e-01 -3.41239393e-01\n",
            " -9.99591798e-02 -4.41557705e-01  4.70623195e-01 -3.67828995e-01\n",
            "  3.98576349e-01 -4.92543042e-01  8.78656566e-01  8.32072496e-01\n",
            " -1.16977632e+00  3.37109506e-01  8.38768423e-01 -5.06665111e-01\n",
            " -7.43602276e-01 -4.10618007e-01 -3.61759037e-01 -2.17879340e-01\n",
            "  1.21440113e+00  4.40189213e-01  3.86337101e-01  3.97479057e-01\n",
            " -7.08078086e-01  8.30286026e-01  1.40583801e+00 -6.90472543e-01\n",
            " -1.39094698e+00  1.25529766e-01 -7.24032998e-01  1.38423769e-02\n",
            "  3.34175467e-01  7.59368896e-01  7.64107585e-01 -9.68392015e-01\n",
            " -1.54777706e-01  9.63451445e-01 -5.88842273e-01 -8.97798613e-02]\n"
          ],
          "name": "stdout"
        }
      ]
    },
    {
      "cell_type": "code",
      "metadata": {
        "id": "E6uozfxrzn6l",
        "colab_type": "code",
        "colab": {
          "base_uri": "https://localhost:8080/",
          "height": 109
        },
        "outputId": "25cb03ff-3fc6-4e20-8c43-0a7f45b2ee1f"
      },
      "source": [
        "print(w2v.wv.most_similar(\"版主\"))\n",
        "print(\"相似度:\", w2v.wv.similarity(\"正妹\", \"肥宅\"))"
      ],
      "execution_count": 41,
      "outputs": [
        {
          "output_type": "stream",
          "text": [
            "[('署名', 0.7780627012252808), ('水桶', 0.690186619758606), ('刪除', 0.687913179397583), ('喉嚨', 0.6618768572807312), ('版面', 0.660309374332428), ('編輯部', 0.6593468189239502), ('Yahoo', 0.6567506790161133), ('華視', 0.6506092548370361), ('民視', 0.6434006690979004), ('朱凱翔', 0.642416775226593)]\n",
            "相似度: 0.5902773\n"
          ],
          "name": "stdout"
        },
        {
          "output_type": "stream",
          "text": [
            "/usr/local/lib/python3.6/dist-packages/gensim/matutils.py:737: FutureWarning: Conversion of the second argument of issubdtype from `int` to `np.signedinteger` is deprecated. In future, it will be treated as `np.int64 == np.dtype(int).type`.\n",
            "  if np.issubdtype(vec.dtype, np.int):\n"
          ],
          "name": "stderr"
        }
      ]
    },
    {
      "cell_type": "code",
      "metadata": {
        "id": "TRMqwUyr0_mm",
        "colab_type": "code",
        "colab": {
          "base_uri": "https://localhost:8080/",
          "height": 91
        },
        "outputId": "a59ff8fd-1929-4a54-86ac-7b53b3e9db98"
      },
      "source": [
        "import numpy as np\n",
        "from jieba.analyse import extract_tags\n",
        "post_wv = []\n",
        "for post in x_train:\n",
        "    total_tfidf = 0.0\n",
        "    total_tfidf_wv = np.array([0.0] * 100)\n",
        "    for k, tfidf in extract_tags(post, None, withWeight=True):\n",
        "        if k in w2v.wv.vocab:\n",
        "            total_tfidf = total_tfidf + tfidf\n",
        "            total_tfidf_wv = total_tfidf_wv + tfidf * w2v.wv[k]\n",
        "    post_wv.append(total_tfidf_wv / total_tfidf)\n",
        "np.array(post_wv).shape"
      ],
      "execution_count": 46,
      "outputs": [
        {
          "output_type": "stream",
          "text": [
            "/usr/local/lib/python3.6/dist-packages/ipykernel_launcher.py:11: RuntimeWarning: invalid value encountered in true_divide\n",
            "  # This is added back by InteractiveShellApp.init_path()\n"
          ],
          "name": "stderr"
        },
        {
          "output_type": "execute_result",
          "data": {
            "text/plain": [
              "(20000, 100)"
            ]
          },
          "metadata": {
            "tags": []
          },
          "execution_count": 46
        }
      ]
    },
    {
      "cell_type": "code",
      "metadata": {
        "id": "v5hVfkLo4Bdq",
        "colab_type": "code",
        "colab": {}
      },
      "source": [
        "with open(\"doc_vector.txt\", \"w\", encoding=\"utf-8\") as f:\n",
        "    f.write(\"{} {}\\n\".format(20000, 100))\n",
        "    for i, v in enumerate(post_wv):\n",
        "        s = \" \".join(map(str, v))\n",
        "        f.write(\"{} {}\\n\".format(i, s))"
      ],
      "execution_count": 0,
      "outputs": []
    },
    {
      "cell_type": "code",
      "metadata": {
        "id": "bUjCmuZB5uOa",
        "colab_type": "code",
        "colab": {
          "base_uri": "https://localhost:8080/",
          "height": 73
        },
        "outputId": "eba1ad71-dc42-42d8-ea77-39d4128b69dc"
      },
      "source": [
        "from gensim.models import KeyedVectors\n",
        "d2v = KeyedVectors.load_word2vec_format(\"doc_vector.txt\")"
      ],
      "execution_count": 53,
      "outputs": [
        {
          "output_type": "stream",
          "text": [
            "/usr/local/lib/python3.6/dist-packages/smart_open/smart_open_lib.py:402: UserWarning: This function is deprecated, use smart_open.open instead. See the migration notes for details: https://github.com/RaRe-Technologies/smart_open/blob/master/README.rst#migrating-to-the-new-open-function\n",
            "  'See the migration notes for details: %s' % _MIGRATION_NOTES_URL\n"
          ],
          "name": "stderr"
        }
      ]
    },
    {
      "cell_type": "code",
      "metadata": {
        "id": "NOCnN_Bj6PbG",
        "colab_type": "code",
        "colab": {
          "base_uri": "https://localhost:8080/",
          "height": 1000
        },
        "outputId": "2949762f-fb48-491f-b963-fe7e72ed3276"
      },
      "source": [
        "i = input(\"請選一篇文章[0-19999]:\")\n",
        "title = df.iloc[int(i)][\"title\"]\n",
        "content = df.iloc[int(i)][\"content\"]\n",
        "print(\"原文標題:\", title)\n",
        "print(\"原文內容:\", content)\n",
        "\n",
        "for index, sim in d2v.most_similar(i)[:2]:\n",
        "    title = df.iloc[int(index)][\"title\"]\n",
        "    content = df.iloc[int(index)][\"content\"]\n",
        "    print(\"*\" * 50)\n",
        "    print(\"相似度:\", sim)\n",
        "    print(\"標題:\", title)\n",
        "    print(\"內容:\", content)"
      ],
      "execution_count": 57,
      "outputs": [
        {
          "output_type": "stream",
          "text": [
            "請選一篇文章[0-19999]:1\n",
            "原文標題: 自排入不分區立委？ 李昭平：吳敦義從沒\n",
            "原文內容: \n",
            "※發文無1~6小標格式或未依順序任意刪除者會被刪文\n",
            "\n",
            "1.媒體來源:聯合報\n",
            "※ 例如蘋果日報、自由時報（請參考版規下方的核准媒體名單）\n",
            "\n",
            "\n",
            "2.記者署名 記者周志豪\n",
            "※ 沒有在這打上記者署名的新聞會被水桶14天 編輯非記者\n",
            "※ 外電至少要有來源或編輯 如:法新社\n",
            "\n",
            "\n",
            "3.完整新聞標題:自排入不分區立委？ 李昭平：吳敦義從沒考慮放第一名\n",
            "※ 標題沒有完整寫出來 ---> 依照板規刪除文章\n",
            "\n",
            "\n",
            "4.完整新聞內文:\n",
            "國民黨主席吳敦義考慮是否自排入下屆國民黨不分區立委名單，但究竟要排在第一名或安\n",
            "全名單邊緣，各種聲音都有。中常委李昭平受訪時表示，吳上午在出席全國勞工後援會會\n",
            "議時，被出席代表問到相關問題，表示「從來沒有考慮放在第一名」。\n",
            "\n",
            "李昭平說，早上開勞工後援會，有人詢問吳敦義「是不是考慮放在國民黨不分區立委第一\n",
            "名」，吳回答「絕對沒有考慮過這件事情，沒有做這個考量過」。李昭平認為，吳事實上\n",
            "也不需要這樣考量，放在第一名就毫無意義。\n",
            "\n",
            "李昭平表示，黨內有這個聲音認為吳敦義如果能夠放在下屆不分區立委名單後段，在安全\n",
            "名單後面一點的話，對大家希望吳領頭羊往前衝，才是有意義的事情，放在第一名根本沒\n",
            "有意義，吳自己都說他不考慮。\n",
            "\n",
            "但吳敦義這樣的回應，是否代表吳敦義已經決定自放入名單，只是順序有別？李昭平說，\n",
            "吳有沒有考慮放入名單不知道，這是主席權力。\n",
            "※ 社論特稿都不能貼！違者刪除（政治類水桶3個月)，貼廣告也會被刪除喔！可詳看版規\n",
            "\n",
            "\n",
            "5.完整新聞連結 (或短網址):\n",
            "https://udn.com/news/story/7548/4095546?from=udn-ch1_breaknews-1-0-news\n",
            "※ 當新聞連結過長時，需提供短網址方便網友點擊\n",
            "\n",
            "\n",
            "6.備註:\n",
            "沒考慮放第一名\n",
            "\n",
            "可以放第二名\n",
            "※ 一個人一天只能張貼一則新聞，被刪或自刪也算額度內，超貼者水桶，請注意\n",
            "\n",
            "--\n",
            "\n",
            "**************************************************\n",
            "相似度: 0.981410026550293\n",
            "標題: 蔡英文視察萬大線 柯文哲：還在蓋、現在\n",
            "內容: \n",
            "※發文無1~6小標格式或未依順序任意刪除者會被刪文\n",
            "\n",
            "1.媒體來源:\n",
            "自由\n",
            "※ 例如蘋果日報、自由時報（請參考版規下方的核准媒體名單）\n",
            "\n",
            "\n",
            "2.記者署名\n",
            "沈佩瑤\n",
            "※ 沒有在這打上記者署名的新聞會被水桶14天 編輯非記者\n",
            "※ 外電至少要有來源或編輯 如:法新社\n",
            "\n",
            "\n",
            "3.完整新聞標題:\n",
            "蔡英文視察萬大線 柯文哲：還在蓋、現在沒必要去看\n",
            "※ 標題沒有完整寫出來 ---> 依照板規刪除文章\n",
            "\n",
            "\n",
            "4.完整新聞內文:\n",
            "蔡英文總統今天上午前往新北市，視察由台北市捷運工程局主政的捷運萬大線樹林線二期\n",
            "，包括交通部長林佳龍、新北市長侯友宜等人都出席，台北市政府卻僅派副市長鄧家基前\n",
            "往，被外界解讀是柯文哲不願和蔡英文同台，也不願做政績給民進黨。\n",
            "\n",
            "對此，柯文哲今受訪時表示，自己不清楚，要看一下資料，不過萬大線是由台北市政府執\n",
            "行，目前還在興建，現在沒有理由去看啊，工程還在進行中，為什麼現在要去看，年底會\n",
            "通車的中環線。\n",
            "\n",
            "此外，對於臉書粉絲團一週狂掉兩萬人，柯文哲則認為，差不多差不多，組黨還是有影響\n",
            "，有些人是因為你白色力量無黨派，支持你，我們也想過這個問題，但政治上實際考量是\n",
            "，不分區立委沒有政黨怎麼進去，所以還是沒有辦法，就是在現實基礎上堅持最大理想，\n",
            "有時候會損失一下，那也沒有辦法。\n",
            "※ 社論特稿都不能貼！違者刪除（政治類水桶3個月)，貼廣告也會被刪除喔！可詳看版規\n",
            "\n",
            "\n",
            "5.完整新聞連結 (或短網址):\n",
            "https://news.ltn.com.tw/news/Taipei/breakingnews/2881648\n",
            "※ 當新聞連結過長時，需提供短網址方便網友點擊\n",
            "\n",
            "\n",
            "6.備註:\n",
            "※ 一個人一天只能張貼一則新聞，被刪或自刪也算額度內，超貼者水桶，請注意\n",
            "\n",
            "--\n",
            "\n",
            "**************************************************\n",
            "相似度: 0.97826087474823\n",
            "標題: 郭想選黨魁？黃暐瀚：小心被丟鞋\n",
            "內容: \n",
            "※發文無1~6小標格式或未依順序任意刪除者會被刪文\n",
            "\n",
            "1.媒體來源:\n",
            "※ 例如蘋果日報、自由時報（請參考版規下方的核准媒體名單）\n",
            "中時電子報\n",
            "\n",
            "2.記者署名\n",
            "※ 沒有在這打上記者署名的新聞會被水桶14天 編輯非記者\n",
            "※ 外電至少要有來源或編輯 如:法新社\n",
            "王子瑄\n",
            "\n",
            "3.完整新聞標題:\n",
            "※ 標題沒有完整寫出來 ---> 依照板規刪除文章\n",
            "郭想選黨魁？黃暐瀚：小心被丟鞋\n",
            "\n",
            "4.完整新聞內文:\n",
            "※ 社論特稿都不能貼！違者刪除（政治類水桶3個月)，貼廣告也會被刪除喔！可詳看版規\n",
            "\n",
            "鴻海集團創辦人郭台銘動作頻頻，外傳郭有「獨立參選」、「換瑜或操作棄保」、「敗選後直攻黨魁」3套劇本。媒體人黃暐瀚認為，「獨立參選」可能性最高；第二個選項光藍營立委候選人就會反對到底；第三個選項簡直匪夷所思，郭恐會被基層國民黨黨員當場丟鞋。\n",
            "\n",
            "黃暐瀚在政論節目分析外傳郭台銘的「3套劇本」，認為「獨立參選」可能性最高，因為「換瑜」不僅難度高，藍營立委候選人怕一旦換瑜，「鋼鐵韓粉」會聯立委都不投，為保選情，他們絕對反對到底；因此目前為止，都沒有任何一位立委候選人，提出「換瑜」的說法。\n",
            "\n",
            "黃暐瀚補充，4年前的「換柱」，其實立院裡的立委幾乎半數以上都支持。黃坦言，當時自己就在採訪，他能負責任跟大家說，當年有好幾個現任立委跑到主席辦公室，對朱立倫拍桌大喊：「你如果不出來我不選了！或者我就不掛國民黨選務！」當時並非朱出來就會贏，立委們是朱出能保38席修憲門檻，雖然結果也沒有。\n",
            "\n",
            "\n",
            "至於「敗選後直攻黨魁」，黃暐瀚大表不解！直言國民黨黨魁是由國民黨黨員投的，以如今郭台銘跟國民黨的關係，可能會被黨員拿鞋子丟！2000年落敗，徐立德等大老到中常會時，被激憤藍營民眾追打；若2020國民黨輸了，郭真的就不用再講「國民黨」3個字，黨員恐會用激烈方式表達對郭的不接受。\n",
            "\n",
            "5.完整新聞連結 (或短網址):\n",
            "※ 當新聞連結過長時，需提供短網址方便網友點擊\n",
            "https://www.chinatimes.com/realtimenews/20190903001195-260407\n",
            "\n",
            "\n",
            "6.備註:\n",
            "※ 一個人一天只能張貼一則新聞，被刪或自刪也算額度內，超貼者水桶，請注意\n",
            "\n",
            "--\n",
            "\n"
          ],
          "name": "stdout"
        },
        {
          "output_type": "stream",
          "text": [
            "/usr/local/lib/python3.6/dist-packages/gensim/matutils.py:737: FutureWarning: Conversion of the second argument of issubdtype from `int` to `np.signedinteger` is deprecated. In future, it will be treated as `np.int64 == np.dtype(int).type`.\n",
            "  if np.issubdtype(vec.dtype, np.int):\n"
          ],
          "name": "stderr"
        }
      ]
    }
  ]
}